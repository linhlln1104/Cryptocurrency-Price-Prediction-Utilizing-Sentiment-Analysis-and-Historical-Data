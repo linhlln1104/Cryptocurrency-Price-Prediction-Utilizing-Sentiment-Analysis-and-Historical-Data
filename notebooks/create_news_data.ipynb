{
 "cells": [
  {
   "cell_type": "code",
   "execution_count": 1,
   "metadata": {},
   "outputs": [
    {
     "name": "stdout",
     "output_type": "stream",
     "text": [
      "Các dòng giống nhau:\n",
      "             Date                                              Title  \\\n",
      "995    2022-03-02  All Eyes on US Congress as Fed Chair Powell Pr...   \n",
      "3894   2022-09-06  Crypto investment product firm 21.co raises $2...   \n",
      "5074   2022-12-05        How can UK-based businesses accept Bitcoin?   \n",
      "7441   2023-07-03  Elon Musk imposes 'rate limit' on Twitter citi...   \n",
      "8106   2023-08-20  Bitcoin on the way to 'bearadise?' $20K is bac...   \n",
      "...           ...                                                ...   \n",
      "11362  2024-06-26  US Government Emerges As One Of The Largest Bi...   \n",
      "13058  2024-06-29  Barstool Sports' President Plans To Purchase B...   \n",
      "13059  2024-06-29  Bitcoin's Hash Price Hits Historic Low, Miners...   \n",
      "13060  2024-06-29   Grayscale GBTC Sees Net Outflow Of $27.2 Million   \n",
      "13061  2024-06-29  Bitcoin(BTC) Surpasses 61,000 USDT with a Narr...   \n",
      "\n",
      "                                                 Content  \n",
      "995    Since Jerome Powell's last appearance, the eco...  \n",
      "3894   Founded during the major market slump of 2018,...  \n",
      "5074   Through Bitcoin payment processors like BitPay...  \n",
      "7441   Verified Twitter users will be allowed to view...  \n",
      "8106   Bitcoin is giving plenty of longtime market pa...  \n",
      "...                                                  ...  \n",
      "11362  According to Odaily, Jameson Lopp, co-founder ...  \n",
      "13058  According to BlockBeats, Dave Portnoy, the fou...  \n",
      "13059  According to BlockBeats, Ki Young Ju, the foun...  \n",
      "13060  According to BlockBeats, Grayscale's GBTC expe...  \n",
      "13061  On Jun 29, 2024, 01:46 AM(UTC). According to B...  \n",
      "\n",
      "[1377 rows x 3 columns]\n",
      "Tệp CSV đã được gộp và sắp xếp thành công.\n"
     ]
    }
   ],
   "source": [
    "import pandas as pd\n",
    "import os\n",
    "import glob\n",
    "\n",
    "folder_path = r'C:\\Users\\Administrator\\Desktop\\DSP391m_cryptocurrency-price-prediction\\data\\raw\\BTC_news'\n",
    "csv_files = glob.glob(os.path.join(folder_path, '*.csv'))\n",
    "\n",
    "dfs = []\n",
    "\n",
    "\n",
    "def fix_date_format(date_series):\n",
    "    try:\n",
    "        return pd.to_datetime(date_series, format='%m/%d/%Y %I:%M:%S %p', errors='raise').dt.date\n",
    "    except ValueError:\n",
    "        return pd.to_datetime(date_series, errors='coerce').dt.date\n",
    "\n",
    "for file in csv_files:\n",
    "    df = pd.read_csv(file)\n",
    "    df['Date'] = fix_date_format(df['Date'])\n",
    "    dfs.append(df)\n",
    "\n",
    "combined_df = pd.concat(dfs, ignore_index=True)\n",
    "\n",
    "combined_df = combined_df.dropna(subset=['Date'])\n",
    "\n",
    "sorted_df = combined_df.sort_values(by='Date')\n",
    "\n",
    "duplicates = sorted_df[sorted_df.duplicated()]\n",
    "\n",
    "if not duplicates.empty:\n",
    "    print(\"Các dòng giống nhau:\")\n",
    "    print(duplicates)\n",
    "else:\n",
    "    print(\"Không có dòng nào giống nhau.\")\n",
    "\n",
    "sorted_df_no_duplicates = sorted_df.drop_duplicates()\n",
    "\n",
    "sorted_df.to_csv(r'C:\\Users\\Administrator\\Desktop\\DSP391m_cryptocurrency-price-prediction\\data\\processed\\BTC_news\\BTC_news.csv', index=False)\n",
    "\n",
    "print(\"Tệp CSV đã được gộp và sắp xếp thành công.\")\n",
    "\n"
   ]
  }
 ],
 "metadata": {
  "kernelspec": {
   "display_name": ".venv",
   "language": "python",
   "name": "python3"
  },
  "language_info": {
   "codemirror_mode": {
    "name": "ipython",
    "version": 3
   },
   "file_extension": ".py",
   "mimetype": "text/x-python",
   "name": "python",
   "nbconvert_exporter": "python",
   "pygments_lexer": "ipython3",
   "version": "3.10.10"
  }
 },
 "nbformat": 4,
 "nbformat_minor": 2
}
